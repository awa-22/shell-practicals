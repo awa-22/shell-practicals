{
 "cells": [
  {
   "cell_type": "markdown",
   "metadata": {},
   "source": [
    "Assignement 1 Summations and Products"
   ]
  },
  {
   "cell_type": "markdown",
   "metadata": {},
   "source": [
    "1. Compute the following expressions for a natural number n chosen by the user"
   ]
  },
  {
   "cell_type": "code",
   "execution_count": 18,
   "metadata": {},
   "outputs": [
    {
     "name": "stdout",
     "output_type": "stream",
     "text": [
      "taper la valeur de lentier4\n",
      "18\n"
     ]
    }
   ],
   "source": [
    "a=int(input('taper la valeur de lentier'))\n",
    "s=0\n",
    "for i in range (0,a):\n",
    "    s=s+i+3\n",
    "    i=i+1\n",
    "print(s)\n",
    "       "
   ]
  },
  {
   "cell_type": "code",
   "execution_count": 19,
   "metadata": {},
   "outputs": [
    {
     "name": "stdout",
     "output_type": "stream",
     "text": [
      "taper la valeur de lentier2\n",
      "6\n"
     ]
    }
   ],
   "source": [
    "b=int(input('taper la valeur de lentier'))\n",
    "p=0\n",
    "for i in range (0,b):\n",
    "    p=p*i+3\n",
    "    i=i+1\n",
    "print(p)"
   ]
  },
  {
   "cell_type": "markdown",
   "metadata": {},
   "source": [
    "2.Write a program that reads the number of the day of the week (from 0 to 6). If it is a\n",
    "working day, then the program will write the name of the corresponding day. Otherwise,\n",
    "it will write the word \"Weekend\"."
   ]
  },
  {
   "cell_type": "code",
   "execution_count": 20,
   "metadata": {},
   "outputs": [
    {
     "name": "stdout",
     "output_type": "stream",
     "text": [
      "donner un nombre qui correspond a un jour : 3\n",
      "c\"est un jour ouvrable,  Jeudi\n"
     ]
    }
   ],
   "source": [
    "d=int(input(\"donner un nombre qui correspond a un jour : \"))\n",
    "jour=[\"lundi\", \"Mardi\", \"Mercredis\", \"Jeudi\", \"Vendredis\", \"Samedis\", \"Dimanche\"]\n",
    "if (d<=4):\n",
    "    print('c\"est un jour ouvrable, ', jour[d])\n",
    "elif (d<=6):\n",
    "    print(\"c'est le weekend\")"
   ]
  },
  {
   "cell_type": "markdown",
   "metadata": {},
   "source": [
    "3. Make a program that, given a month number (from 0 to 11), indicates how many days it\n",
    "has (28, 30 or 31), ignoring the leap years."
   ]
  },
  {
   "cell_type": "markdown",
   "metadata": {},
   "source": [
    "4.Write two versions of python code that displays your name 3 times. One version with a\n",
    "\"for loop\" and another version with a \"while loop\"."
   ]
  },
  {
   "cell_type": "code",
   "execution_count": null,
   "metadata": {},
   "outputs": [],
   "source": []
  },
  {
   "cell_type": "code",
   "execution_count": 21,
   "metadata": {},
   "outputs": [
    {
     "name": "stdout",
     "output_type": "stream",
     "text": [
      "Mon nom est awa ba\n",
      "Mon nom est awa ba\n",
      "Mon nom est awa ba\n"
     ]
    }
   ],
   "source": [
    "l=\"Mon nom est awa ba\"\n",
    "for i in range (0,3):\n",
    "    print(l)"
   ]
  },
  {
   "cell_type": "code",
   "execution_count": 22,
   "metadata": {},
   "outputs": [
    {
     "name": "stdout",
     "output_type": "stream",
     "text": [
      "Mon nom est awa ba\n",
      "Mon nom est awa ba\n",
      "Mon nom est awa ba\n"
     ]
    }
   ],
   "source": [
    "l=\"Mon nom est awa ba\"\n",
    "i=0\n",
    "while (i<3):\n",
    "    print(l)\n",
    "    i=i+1\n",
    "    "
   ]
  },
  {
   "cell_type": "markdown",
   "metadata": {},
   "source": [
    "5.Given two numbers a0 and a1, the Fibonacci sequence they generate is constructed from\n",
    "the recursion formula an+1 = an + an-1. Calculate the first 15 terms of a Fibonacci\n",
    "sequence, asking the user the initial values."
   ]
  },
  {
   "cell_type": "code",
   "execution_count": 23,
   "metadata": {},
   "outputs": [
    {
     "name": "stdout",
     "output_type": "stream",
     "text": [
      "Donner le terme 6\n",
      "donner la valeur initiale 4\n",
      "entrer la seconde valeur7\n",
      "The first 6 terms of a Fibonacci sequence are : \n",
      "4\n",
      "7\n",
      "11\n",
      "18\n",
      "29\n",
      "47\n"
     ]
    }
   ],
   "source": [
    "terms = int(input(\"Donner le terme \"))\n",
    "a0=int(input('donner la valeur initiale '))\n",
    "a1=int(input('entrer la seconde valeur'))\n",
    "i = 0\n",
    "if terms <= 0:\n",
    "    print(\"donner un entier positifs\")\n",
    "elif terms == 1:\n",
    "    print(\"sequence Fibonacci\",terms,\":\")\n",
    "    print(a0)\n",
    "else:\n",
    "    print(\"The first\", terms, \"terms of a Fibonacci sequence are : \")\n",
    "    for i in range(0,terms):\n",
    "        print(a0)\n",
    "        an = a0 + a1\n",
    "        a0 = a1\n",
    "        a1 = an\n",
    "        i+=1 "
   ]
  },
  {
   "cell_type": "markdown",
   "metadata": {},
   "source": [
    "6. Compute the first 30 terms of the sequence defined by 2xn+2-xn+1-6xn = 0 sequence,\n",
    "given any two initial values x0 and x1"
   ]
  },
  {
   "cell_type": "code",
   "execution_count": 25,
   "metadata": {},
   "outputs": [
    {
     "ename": "IndentationError",
     "evalue": "expected an indented block (<ipython-input-25-793b28cb1d4f>, line 5)",
     "output_type": "error",
     "traceback": [
      "\u001b[0;36m  File \u001b[0;32m\"<ipython-input-25-793b28cb1d4f>\"\u001b[0;36m, line \u001b[0;32m5\u001b[0m\n\u001b[0;31m    if i <= 0:\u001b[0m\n\u001b[0m     ^\u001b[0m\n\u001b[0;31mIndentationError\u001b[0m\u001b[0;31m:\u001b[0m expected an indented block\n"
     ]
    }
   ],
   "source": [
    "x0=0\n",
    "x1=1\n",
    "i=0\n",
    "for i in range(0,30):\n",
    "if i <= 0:\n",
    "    print(\"Please enter a positive integer\")\n",
    "elif i == 1:\n",
    "    print(\"The sequence upto\",i,\":\")\n",
    "    print(x0)\n",
    "else:\n",
    "    print(\"The first\", i, \"terms the sequence are : \")\n",
    "    while j < i:\n",
    "        print(x0)\n",
    "        xn = (6*x0 + x1)/2\n",
    "        x0 = x1\n",
    "        x1 = xn\n",
    "        j += 1"
   ]
  },
  {
   "cell_type": "markdown",
   "metadata": {},
   "source": [
    "7.a) Write python code to determine whether or not a year is a leap year. Be sure you\n",
    "know what a leap year is."
   ]
  },
  {
   "cell_type": "code",
   "execution_count": 26,
   "metadata": {},
   "outputs": [
    {
     "name": "stdout",
     "output_type": "stream",
     "text": [
      "donner une annee: 8\n",
      "c'est une annee bisextile!\n"
     ]
    }
   ],
   "source": [
    "an=int(input(\"donner une annee: \"))\n",
    "if(an%4==0 and an%100!=0 or an%400==0):\n",
    "    print(\"c'est une annee bisextile!\")\n",
    "else:\n",
    "    print(\"ce n'est pas une annees bisextile!\")"
   ]
  },
  {
   "cell_type": "markdown",
   "metadata": {},
   "source": [
    "7.b) Write the code using only logical operators, i.e. no conditional branching."
   ]
  },
  {
   "cell_type": "code",
   "execution_count": 27,
   "metadata": {},
   "outputs": [
    {
     "name": "stdout",
     "output_type": "stream",
     "text": [
      "donner une annee: 24\n",
      "24 est-elle une annee bisextile?\n"
     ]
    },
    {
     "data": {
      "text/plain": [
       "True"
      ]
     },
     "execution_count": 27,
     "metadata": {},
     "output_type": "execute_result"
    }
   ],
   "source": [
    "an1=int(input(\"donner une annee: \"))\n",
    "print(an1,\"est-elle une annee bisextile?\")\n",
    "an1%4==0 and an1%100!=0 or an1%400==0                "
   ]
  },
  {
   "cell_type": "markdown",
   "metadata": {},
   "source": [
    "8. a) Write python code that computes the sum of the square of the first n natural numbers.\n",
    "One version with a \"for loop\" and another version with a \"while loop\"."
   ]
  },
  {
   "cell_type": "code",
   "execution_count": 28,
   "metadata": {},
   "outputs": [
    {
     "name": "stdout",
     "output_type": "stream",
     "text": [
      " entrer un nombre n : 45\n",
      "la somme des carree des premiers termes de 45 est le nombre naturelle  31395\n"
     ]
    }
   ],
   "source": [
    "n = int(input(\" entrer un nombre n : \"))\n",
    "som = 0\n",
    "for i in range(n+1):\n",
    "        som = som + i**2\n",
    "print(\"la somme des carree des premiers termes de\", n, \"est le nombre naturelle \", som)\n",
    "    "
   ]
  },
  {
   "cell_type": "code",
   "execution_count": 29,
   "metadata": {},
   "outputs": [
    {
     "name": "stdout",
     "output_type": "stream",
     "text": [
      " donner un n : 541\n",
      "la somme des  541 est l'entier naturelle 52926571\n"
     ]
    }
   ],
   "source": [
    "n = int(input(\" donner un n : \"))\n",
    "i=0;\n",
    "soom=0\n",
    "while (i<=n):\n",
    "    soom+=i**2\n",
    "    i+=1\n",
    "print(\"la somme des \", n, \"est l'entier naturelle\", soom) "
   ]
  },
  {
   "cell_type": "markdown",
   "metadata": {},
   "source": [
    "b) Write python code that prints, for a natural number M, the smallest natural number\n",
    "n such that 12+22+\u0001 \u0001 \u0001+n2 \u0015 M: One version with a \"for loop\" and another version\n",
    "with a \"while loop\"."
   ]
  },
  {
   "cell_type": "code",
   "execution_count": 30,
   "metadata": {},
   "outputs": [
    {
     "name": "stdout",
     "output_type": "stream",
     "text": [
      "Pentrer un entier M 41\n",
      "LE PLUS PETIT ENTIER  n EST   5\n"
     ]
    }
   ],
   "source": [
    "M = int(input(\"Pentrer un entier M \"))\n",
    "s=0\n",
    "l=[]\n",
    "for i in range(1, M+1):\n",
    "    s=s+i**2\n",
    "    if M<=s:\n",
    "        l.append(i)\n",
    "print(\"LE PLUS PETIT ENTIER  n EST  \", l[0]) "
   ]
  },
  {
   "cell_type": "code",
   "execution_count": 31,
   "metadata": {},
   "outputs": [
    {
     "name": "stdout",
     "output_type": "stream",
     "text": [
      "Pentrer un entier M  542\n",
      "LE PLUS PETIT ENTIER  n EST 12\n"
     ]
    }
   ],
   "source": [
    "M = int(input(\"Pentrer un entier M  \"))\n",
    "s=0\n",
    "i=0\n",
    "while(i<=M):\n",
    "    s=s+i**2\n",
    "    if M<=s:\n",
    "        print(\"LE PLUS PETIT ENTIER  n EST\", i)\n",
    "        break\n",
    "    i+=1   "
   ]
  },
  {
   "cell_type": "markdown",
   "metadata": {},
   "source": [
    "9. a) Write python code that prints all the divisors of a given natural number."
   ]
  },
  {
   "cell_type": "code",
   "execution_count": 32,
   "metadata": {},
   "outputs": [
    {
     "name": "stdout",
     "output_type": "stream",
     "text": [
      " DONNER UN ENTIER  n : 4\n",
      "TOUS LES DIVISEUR DE  4 SONT:\n",
      "1\n",
      "2\n",
      "4\n"
     ]
    }
   ],
   "source": [
    "n = int(input(\" DONNER UN ENTIER  n : \"))\n",
    "print('TOUS LES DIVISEUR DE ', n, 'SONT:')\n",
    "i=1\n",
    "while (i<=n):\n",
    "    if (n%i==0):\n",
    "        print(i)\n",
    "    i+=1"
   ]
  },
  {
   "cell_type": "code",
   "execution_count": 33,
   "metadata": {},
   "outputs": [
    {
     "name": "stdout",
     "output_type": "stream",
     "text": [
      " DONNER UN ENTIER  n : 10\n",
      "TOUS LES DIVISEUR DE  10 SONT:\n",
      "1\n",
      "10\n"
     ]
    }
   ],
   "source": [
    "n = int(input(\" DONNER UN ENTIER  n : \"))\n",
    "print('TOUS LES DIVISEUR DE ', n, 'SONT:')\n",
    "i=1\n",
    "for i in (1,n):\n",
    "    if (n%i==0):\n",
    "        print(i)\n",
    "    i=i+1"
   ]
  },
  {
   "cell_type": "markdown",
   "metadata": {},
   "source": [
    "b) Read an integer number input by the user and calculate its prime factors. This will\n",
    "just be some of its divisors."
   ]
  },
  {
   "cell_type": "code",
   "execution_count": null,
   "metadata": {},
   "outputs": [],
   "source": []
  },
  {
   "cell_type": "markdown",
   "metadata": {},
   "source": [
    "10. Read an integer number between n 0 and 9 and print its multiplication table up to N\n",
    "where N is another another natural number read by the program."
   ]
  },
  {
   "cell_type": "code",
   "execution_count": null,
   "metadata": {},
   "outputs": [
    {
     "name": "stdout",
     "output_type": "stream",
     "text": [
      "donner un entier entre 0 et 9:52\n"
     ]
    }
   ],
   "source": [
    "n =int(input(\"donner un entier entre 0 et 9:\"))\n",
    "N = int(input(\"donner un autre entier naturel\"))\n",
    "i=1\n",
    "while (i<=N):\n",
    "    print(n, '*', i, '=', n*i)\n",
    "    i=i+1"
   ]
  },
  {
   "cell_type": "markdown",
   "metadata": {},
   "source": [
    "11. Write a program that prints all the numbers between 0 and 40 that are multiples of 3, 7\n",
    "or 11."
   ]
  },
  {
   "cell_type": "code",
   "execution_count": 17,
   "metadata": {},
   "outputs": [
    {
     "name": "stdout",
     "output_type": "stream",
     "text": [
      "tout les nombres entre 0 et 40 qui sont multiple de 3,7,11 sont:\n",
      "3\n",
      "6\n",
      "7\n",
      "9\n",
      "11\n",
      "12\n",
      "14\n",
      "15\n",
      "18\n",
      "21\n",
      "22\n",
      "24\n",
      "27\n",
      "28\n",
      "30\n",
      "33\n",
      "35\n",
      "36\n",
      "39\n"
     ]
    }
   ],
   "source": [
    "print('tout les nombres entre 0 et 40 qui sont multiple de 3,7,11 sont:')\n",
    "for x in range(1,40):\n",
    "    if(x%3==0 or x%7==0 or x%11==0):\n",
    "        print(x)"
   ]
  },
  {
   "cell_type": "code",
   "execution_count": null,
   "metadata": {},
   "outputs": [],
   "source": []
  },
  {
   "cell_type": "code",
   "execution_count": null,
   "metadata": {},
   "outputs": [],
   "source": []
  },
  {
   "cell_type": "code",
   "execution_count": null,
   "metadata": {},
   "outputs": [],
   "source": []
  },
  {
   "cell_type": "code",
   "execution_count": null,
   "metadata": {},
   "outputs": [],
   "source": []
  }
 ],
 "metadata": {
  "kernelspec": {
   "display_name": "Python 3",
   "language": "python",
   "name": "python3"
  },
  "language_info": {
   "codemirror_mode": {
    "name": "ipython",
    "version": 3
   },
   "file_extension": ".py",
   "mimetype": "text/x-python",
   "name": "python",
   "nbconvert_exporter": "python",
   "pygments_lexer": "ipython3",
   "version": "3.7.3"
  }
 },
 "nbformat": 4,
 "nbformat_minor": 2
}
