{
 "cells": [
  {
   "cell_type": "code",
   "execution_count": 2,
   "metadata": {},
   "outputs": [],
   "source": [
    "                    # October 18, 2021"
   ]
  },
  {
   "cell_type": "markdown",
   "metadata": {},
   "source": [
    "1. Write a python script that asks the user for the values of x and y and uses these inputs to\n",
    "compute the numerical value of the expression\n",
    "p\n",
    "rac(x^(2+y))/(1/x + 2 sin y)\n"
   ]
  },
  {
   "cell_type": "code",
   "execution_count": 4,
   "metadata": {},
   "outputs": [
    {
     "name": "stdout",
     "output_type": "stream",
     "text": [
      "donner le valeur de x4\n",
      "donner le valeur de y2\n",
      "la valeur numerique est 7.734719039718063\n"
     ]
    }
   ],
   "source": [
    "from math import *\n",
    "def fnum():\n",
    "    x = int(input('donner le valeur de x' ))\n",
    "    y = int(input('donner le valeur de y' ))\n",
    "    \n",
    "    f=sqrt(x**(2 + y))/(1/x + 2*sin(y))\n",
    "    print(\"la valeur numerique est\", f)\n",
    "    return\n",
    "\n",
    "fnum()"
   ]
  },
  {
   "cell_type": "markdown",
   "metadata": {},
   "source": [
    "2. Write a function that given two integers b and n (n is positive), calculates bn without using\n",
    "python’s power operator. Name this function ownpowerfn.py."
   ]
  },
  {
   "cell_type": "code",
   "execution_count": 24,
   "metadata": {},
   "outputs": [
    {
     "name": "stdout",
     "output_type": "stream",
     "text": [
      "donner une valeur de b 3\n",
      "donner une valeur de n 2\n",
      "la valeur 3 puissance 2 est 9\n"
     ]
    }
   ],
   "source": [
    "def ownpowerfn():\n",
    "    b=int(input('donner une valeur de b '))\n",
    "    n=int(input('donner une valeur de n '))\n",
    "    if n>0:\n",
    "        i=1\n",
    "        puiss=b\n",
    "        while (i<n):\n",
    "            \n",
    "            i=i+1\n",
    "            puiss*=b\n",
    "            print(\"la valeur\",b,\"puissance\",n,\"est\", puiss)\n",
    "    else:\n",
    "                return\n",
    "ownpowerfn()    "
   ]
  },
  {
   "cell_type": "markdown",
   "metadata": {},
   "source": [
    "3. Write functions that do the following:"
   ]
  },
  {
   "cell_type": "markdown",
   "metadata": {},
   "source": [
    "a) Takes two arguments, and computes their arithmetic and geometric means. Name\n",
    "these functions arithmetic_mean and geometric_mean respectively."
   ]
  },
  {
   "cell_type": "code",
   "execution_count": 9,
   "metadata": {},
   "outputs": [
    {
     "name": "stdout",
     "output_type": "stream",
     "text": [
      "The arithmetic mean is  3.5\n"
     ]
    }
   ],
   "source": [
    "# 3 Write functions that do the following:\n",
    "#     ...a)\n",
    "\n",
    "def arithmetic_mean(x, y):\n",
    "    m=(x+y)/2\n",
    "    print(\"The arithmetic mean is \", m)\n",
    "    return\n",
    "arithmetic_mean(5,2)"
   ]
  },
  {
   "cell_type": "code",
   "execution_count": 10,
   "metadata": {},
   "outputs": [
    {
     "name": "stdout",
     "output_type": "stream",
     "text": [
      "The geometric mean is  3.1622776601683795\n"
     ]
    }
   ],
   "source": [
    "def geometric_mean(x, y):\n",
    "    g=(x*y)**(1/2)\n",
    "    print(\"The geometric mean is \", g)\n",
    "    return\n",
    "geometric_mean(5,2)"
   ]
  },
  {
   "cell_type": "markdown",
   "metadata": {},
   "source": [
    "b) Converts degree Celsius to Fahrenheit and vice versa. Name these two functions\n",
    "celcius_to_fahrenheit and fahrenheit_to_celcius respectively."
   ]
  },
  {
   "cell_type": "code",
   "execution_count": 15,
   "metadata": {},
   "outputs": [
    {
     "name": "stdout",
     "output_type": "stream",
     "text": [
      "37 celsius  98.6 en fahrenhit\n"
     ]
    }
   ],
   "source": [
    "#  3....b)\n",
    "def celsius_to_fahrenheit(c):\n",
    "    f=(c*9/5)+32\n",
    "    print(c,'celsius ',f,'en fahrenhit')\n",
    "    return\n",
    "\n",
    "celsius_to_fahrenheit(37)\n",
    "\n"
   ]
  },
  {
   "cell_type": "code",
   "execution_count": 17,
   "metadata": {},
   "outputs": [
    {
     "name": "stdout",
     "output_type": "stream",
     "text": [
      "98.6 Fahrenheit equal to  37.0 Celsius\n"
     ]
    }
   ],
   "source": [
    "def fahrenheit_to_celsius(f):\n",
    "    c=(5/9)*(f-32)\n",
    "    print(f, \"Fahrenheit equal to \", c, \"Celsius\")\n",
    "    return\n",
    "fahrenheit_to_celsius(98.6)"
   ]
  },
  {
   "cell_type": "markdown",
   "metadata": {},
   "source": [
    "c) Converts angle in degrees to radians and vice versa. Name these two functions\n",
    "degrees_to_radians and radians_to_degrees respectively."
   ]
  },
  {
   "cell_type": "code",
   "execution_count": 15,
   "metadata": {},
   "outputs": [
    {
     "name": "stdout",
     "output_type": "stream",
     "text": [
      "180 en degrees est  3.141592653589793 en radians\n"
     ]
    }
   ],
   "source": [
    "# 3.....c)\n",
    "\n",
    "import math \n",
    "\n",
    "def degrees_to_radians(x):\n",
    "    y=(x*math.pi)/180\n",
    "    print(x, \"en degrees est \",y, \"en radians\")\n",
    "    return\n",
    "\n",
    "degrees_to_radians(180)\n",
    "    "
   ]
  },
  {
   "cell_type": "code",
   "execution_count": 16,
   "metadata": {},
   "outputs": [
    {
     "name": "stdout",
     "output_type": "stream",
     "text": [
      "3.15 radians equal to  180.48170546620932 degrees\n"
     ]
    }
   ],
   "source": [
    "import math\n",
    "\n",
    "def radians_to_degrees(x):\n",
    "    y=(180*x)/math.pi\n",
    "    print(x, \"radians equal to \", y, \"degrees\")\n",
    "    return\n",
    "radians_to_degrees(3.15)\n",
    "    "
   ]
  },
  {
   "cell_type": "markdown",
   "metadata": {},
   "source": [
    "d) Computes the circumference and the area of a circle given the radius."
   ]
  },
  {
   "cell_type": "code",
   "execution_count": 19,
   "metadata": {},
   "outputs": [
    {
     "name": "stdout",
     "output_type": "stream",
     "text": [
      "la circonference  31.41592653589793\n"
     ]
    }
   ],
   "source": [
    "# 3...d\n",
    "from math import*\n",
    "def circumference(r):\n",
    "    p=2*pi*r\n",
    "    print(\"la circonference \", p)\n",
    "    return\n",
    "circumference(5)"
   ]
  },
  {
   "cell_type": "code",
   "execution_count": 20,
   "metadata": {},
   "outputs": [
    {
     "name": "stdout",
     "output_type": "stream",
     "text": [
      "l'aire est 78.53981633974483\n"
     ]
    }
   ],
   "source": [
    "from math import*\n",
    "def area(r):\n",
    "    a=pi*r**2\n",
    "    print(\"l'aire est\" ,a)\n",
    "    return\n",
    "area(5)\n",
    "    "
   ]
  },
  {
   "cell_type": "markdown",
   "metadata": {},
   "source": [
    "4. Write functions that do the following:"
   ]
  },
  {
   "cell_type": "markdown",
   "metadata": {},
   "source": [
    "a) Given two numbers, compute their average and geometrical mean and prints them.\n",
    "Now write a program that performs this process 10 times, taking as input the means\n",
    "computed in the previous step. Name this function avggeom."
   ]
  },
  {
   "cell_type": "code",
   "execution_count": 25,
   "metadata": {},
   "outputs": [
    {
     "name": "stdout",
     "output_type": "stream",
     "text": [
      "la moyenne est  4.5\n",
      "la moyenne geometrique est 4.242640687119285\n"
     ]
    }
   ],
   "source": [
    "# 4....Write functions that do the following:\n",
    "#.........a\n",
    "def moy_geo(x, y):\n",
    "    m=(x+y)/2\n",
    "    print(\"la moyenne est \", m)\n",
    "    mg=(x*y)**(1/2)\n",
    "    print(\"la moyenne geometrique est\", mg)\n",
    "    return\n",
    "moy_geo(6,3)"
   ]
  },
  {
   "cell_type": "code",
   "execution_count": 4,
   "metadata": {},
   "outputs": [
    {
     "name": "stdout",
     "output_type": "stream",
     "text": [
      "enter x : 6\n",
      "enter y : 3\n",
      "4.5 4.242640687119285\n",
      "4.371320343559642 4.369425945365911\n",
      "4.370373144462777 4.370373041818665\n",
      "4.370373093140721 4.370373093140721\n",
      "4.370373093140721 4.370373093140721\n",
      "4.370373093140721 4.370373093140721\n",
      "4.370373093140721 4.370373093140721\n",
      "4.370373093140721 4.370373093140721\n",
      "4.370373093140721 4.370373093140721\n",
      "4.370373093140721 4.370373093140721\n"
     ]
    }
   ],
   "source": [
    "x=float(input(\"enter x : \"))\n",
    "y=float(input(\"enter y : \"))\n",
    "\n",
    "def moy(x, y):\n",
    "    m=(x+y)/2\n",
    "    return m\n",
    "def moy_geo(x,y):\n",
    "    mg=(x*y)**(1/2)\n",
    "    return mg\n",
    "def avggeom(x, y):\n",
    "    print(moy(x,y), moy_geo(x,y))\n",
    "    return moy(x,y), moy_geo(x,y)\n",
    "n=(x,y)\n",
    "for i in range(0, 10):\n",
    "    t=n\n",
    "    n=avggeom(t[0],t[1])"
   ]
  },
  {
   "cell_type": "markdown",
   "metadata": {},
   "source": [
    "b) Write a function that computes the distance between two points in the plane. Use\n",
    "it in another program that computes the perimeter and the area of a triangle, given\n",
    "three points in the plane. Name this function distancefn."
   ]
  },
  {
   "cell_type": "code",
   "execution_count": 8,
   "metadata": {},
   "outputs": [
    {
     "name": "stdout",
     "output_type": "stream",
     "text": [
      "la distance entre  2 , 4  et  3 , 6  est  2.23606797749979\n"
     ]
    }
   ],
   "source": [
    "from math import*\n",
    "def distance(x1,x2,y1,y2):\n",
    "    d=sqrt((x2-x1)**2+(y2-y1)**2)\n",
    "    print(\"la distance entre \",x1, \",\", y1, \" et \",x2, \",\", y2, \" est \", d)\n",
    "    return\n",
    "distance(2,3,4,6)"
   ]
  },
  {
   "cell_type": "code",
   "execution_count": 9,
   "metadata": {},
   "outputs": [
    {
     "name": "stdout",
     "output_type": "stream",
     "text": [
      "le perimetre du triangle  9.187600727863641\n",
      "l'aire du triangle  3.0000000000000018\n"
     ]
    }
   ],
   "source": [
    "def distance(x1,x2,y1,y2):\n",
    "    d=sqrt((x2-x1)**2+(y2-y1)**2)\n",
    "    return d\n",
    "def distancefn(x1,x2,x3,y1,y2,y3):\n",
    "    p=distance(x1,x2,y1,y2) + distance(x2,x3,y2,y3) + distance(x1,x3,y1,y3)\n",
    "    A=sqrt((p/2)*(p/2 -distance(x1,x2,y1,y2))*(p/2 -distance(x2,x3,y2,y3))*(p/2 - distance(x1,x3,y1,y3)))\n",
    "    print(\"le perimetre du triangle \", p)\n",
    "    print(\"l'aire du triangle \", A)\n",
    "    return \n",
    "distancefn(1,3,2,4,2,6)"
   ]
  },
  {
   "cell_type": "markdown",
   "metadata": {},
   "source": [
    "5. Write a program that offers three options to the user:\n",
    "    1.Evaluation of actorial\n",
    "    2.Evaluation of a second degree equation\n",
    "    3. Exit"
   ]
  },
  {
   "cell_type": "code",
   "execution_count": null,
   "metadata": {},
   "outputs": [],
   "source": []
  },
  {
   "cell_type": "markdown",
   "metadata": {},
   "source": [
    "\n",
    "6. For a fixed real number x and a natural number n , we can define recursively x^n using the relations: x^0 = 1and x^n+1 = x.x^n .\n",
    "\n",
    "Write a function power(x,n) that implements the above recursion."
   ]
  },
  {
   "cell_type": "code",
   "execution_count": 10,
   "metadata": {},
   "outputs": [
    {
     "data": {
      "text/plain": [
       "49"
      ]
     },
     "execution_count": 10,
     "metadata": {},
     "output_type": "execute_result"
    }
   ],
   "source": [
    "def power(x, n):\n",
    "    i=1\n",
    "    if (n==0):\n",
    "        return 1\n",
    "    if (n>0):\n",
    "        for j in range(abs(n)):\n",
    "            i=i*x\n",
    "        return i\n",
    "    else:\n",
    "        return 1/i\n",
    "power(7,2)    \n",
    "    "
   ]
  },
  {
   "cell_type": "markdown",
   "metadata": {},
   "source": [
    "7. Write code that implements the Fibonacci sequence. Test your program at 100."
   ]
  },
  {
   "cell_type": "code",
   "execution_count": 11,
   "metadata": {},
   "outputs": [
    {
     "name": "stdout",
     "output_type": "stream",
     "text": [
      "Entrez un nombre: 100\n",
      "\n",
      " la suite fibonacci est :\n",
      "0 , 1, 1, 2, 3, 5, 8, 13, 21, 34, 55, 89, 144, 233, 377, 610, 987, 1597, 2584, 4181, 6765, 10946, 17711, 28657, 46368, 75025, 121393, 196418, 317811, 514229, 832040, 1346269, 2178309, 3524578, 5702887, 9227465, 14930352, 24157817, 39088169, 63245986, 102334155, 165580141, 267914296, 433494437, 701408733, 1134903170, 1836311903, 2971215073, 4807526976, 7778742049, 12586269025, 20365011074, 32951280099, 53316291173, 86267571272, 139583862445, 225851433717, 365435296162, 591286729879, 956722026041, 1548008755920, 2504730781961, 4052739537881, 6557470319842, 10610209857723, 17167680177565, 27777890035288, 44945570212853, 72723460248141, 117669030460994, 190392490709135, 308061521170129, 498454011879264, 806515533049393, 1304969544928657, 2111485077978050, 3416454622906707, 5527939700884757, 8944394323791464, 14472334024676221, 23416728348467685, 37889062373143906, 61305790721611591, 99194853094755497, 160500643816367088, 259695496911122585, 420196140727489673, 679891637638612258, 1100087778366101931, 1779979416004714189, 2880067194370816120, 4660046610375530309, 7540113804746346429, 12200160415121876738, 19740274219868223167, 31940434634990099905, 51680708854858323072, 83621143489848422977, 135301852344706746049, 218922995834555169026, "
     ]
    }
   ],
   "source": [
    "N = int(input(\"Entrez un nombre: \"))\n",
    " \n",
    "n1 = 0\n",
    "n2 = 1\n",
    " \n",
    "print(\"\\n la suite fibonacci est :\")\n",
    "print(n1, \",\", n2, end=\", \")\n",
    " \n",
    "for i in range(2, N):\n",
    "  n = n1 + n2\n",
    "  print(n, end=\", \")\n",
    " \n",
    "  n1 = n2\n",
    "  n2 = n"
   ]
  },
  {
   "cell_type": "code",
   "execution_count": null,
   "metadata": {},
   "outputs": [],
   "source": []
  }
 ],
 "metadata": {
  "kernelspec": {
   "display_name": "Python 3",
   "language": "python",
   "name": "python3"
  },
  "language_info": {
   "codemirror_mode": {
    "name": "ipython",
    "version": 3
   },
   "file_extension": ".py",
   "mimetype": "text/x-python",
   "name": "python",
   "nbconvert_exporter": "python",
   "pygments_lexer": "ipython3",
   "version": "3.7.3"
  }
 },
 "nbformat": 4,
 "nbformat_minor": 5
}
